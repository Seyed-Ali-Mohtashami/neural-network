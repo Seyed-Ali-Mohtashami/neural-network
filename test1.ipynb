{
  "nbformat": 4,
  "nbformat_minor": 0,
  "metadata": {
    "colab": {
      "provenance": []
    },
    "kernelspec": {
      "name": "python3",
      "display_name": "Python 3"
    },
    "language_info": {
      "name": "python"
    }
  },
  "cells": [
    {
      "cell_type": "code",
      "execution_count": null,
      "metadata": {
        "id": "KVWSw0_qtcTA"
      },
      "outputs": [],
      "source": [
        "import numpy as np\n",
        "from sklearn.metrics import mean_squared_error"
      ]
    },
    {
      "cell_type": "code",
      "source": [
        "x_train=[[1,2],[3,1],[2,2]]\n",
        "y_train=[5,6,4]\n",
        "w=[1,2]"
      ],
      "metadata": {
        "id": "0vv7-4mutmJw"
      },
      "execution_count": null,
      "outputs": []
    },
    {
      "cell_type": "code",
      "source": [
        "def calculate_new_weight(x,y,w,learning_step):\n",
        "  # 1.calculate new y\n",
        "  y_new=np.dot(x,w)\n",
        "  print('y_new = ',y_new)\n",
        "\n",
        "  # 2.calculate MSE\n",
        "  mse=mean_squared_error(y,y_new)\n",
        "  mse=round(mse,2)\n",
        "  print('MSE = ',mse)\n",
        "\n",
        "  # 3.calculate Error Of each Weights\n",
        "  eow=[mse/2,mse/2]\n",
        "  print('Error of weight 1 = ',eow[0],'Error of weight 2 = ',eow[1])\n",
        "\n",
        "  # 4.calculate new weights\n",
        "  w_new=[0,0]\n",
        "  for i in range(0,2):\n",
        "    w_new[i]=(w[i]*(eow[i]-learning_step))/eow[i]\n",
        "    w_new[i]=round(w_new[i],2)\n",
        "  print('w_new = ',w_new)\n",
        "  return w_new"
      ],
      "metadata": {
        "id": "busYlByp2KGO"
      },
      "execution_count": null,
      "outputs": []
    },
    {
      "cell_type": "code",
      "source": [
        "for step in range(0,5):\n",
        "  print('********************** iteration '+str(step)+' ***************************')\n",
        "  w = calculate_new_weight(x_train,y_train,w,learning_step)\n",
        "  print()\n"
      ],
      "metadata": {
        "colab": {
          "base_uri": "https://localhost:8080/"
        },
        "id": "U1wYUpTj2UhV",
        "outputId": "f81b5859-842d-49e6-8862-551be6db8b10"
      },
      "execution_count": null,
      "outputs": [
        {
          "output_type": "stream",
          "name": "stdout",
          "text": [
            "********************** iteration 0 ***************************\n",
            "y_new =  [5 5 6]\n",
            "MSE =  1.67\n",
            "Error of weight 1 =  0.835 Error of weight 2 =  0.835\n",
            "w_new =  [0.84, 1.68]\n",
            "\n",
            "********************** iteration 1 ***************************\n",
            "y_new =  [4.2  4.2  5.04]\n",
            "MSE =  1.65\n",
            "Error of weight 1 =  0.825 Error of weight 2 =  0.825\n",
            "w_new =  [0.7, 1.41]\n",
            "\n",
            "********************** iteration 2 ***************************\n",
            "y_new =  [3.52 3.51 4.22]\n",
            "MSE =  2.81\n",
            "Error of weight 1 =  1.405 Error of weight 2 =  1.405\n",
            "w_new =  [0.63, 1.27]\n",
            "\n",
            "********************** iteration 3 ***************************\n",
            "y_new =  [3.17 3.16 3.8 ]\n",
            "MSE =  3.82\n",
            "Error of weight 1 =  1.91 Error of weight 2 =  1.91\n",
            "w_new =  [0.59, 1.18]\n",
            "\n",
            "********************** iteration 4 ***************************\n",
            "y_new =  [2.95 2.95 3.54]\n",
            "MSE =  4.57\n",
            "Error of weight 1 =  2.285 Error of weight 2 =  2.285\n",
            "w_new =  [0.56, 1.11]\n",
            "\n"
          ]
        }
      ]
    }
  ]
}